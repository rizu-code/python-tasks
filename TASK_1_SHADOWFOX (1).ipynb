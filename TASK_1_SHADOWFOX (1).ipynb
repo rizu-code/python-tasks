{
  "cells": [
    {
      "cell_type": "code",
      "execution_count": null,
      "metadata": {
        "colab": {
          "base_uri": "https://localhost:8080/"
        },
        "id": "KaIH16sGneRi",
        "outputId": "8e655c45-2c9e-4681-c876-6a9830697440"
      },
      "outputs": [
        {
          "output_type": "stream",
          "name": "stdout",
          "text": [
            "value of pi: 3.142857142857143\n",
            "Data type of pi <class 'float'>\n"
          ]
        }
      ],
      "source": [
        "pi=22/7\n",
        "print(\"value of pi:\",pi)\n",
        "print(\"Data type of pi\", type(pi))"
      ]
    },
    {
      "cell_type": "code",
      "execution_count": null,
      "metadata": {
        "colab": {
          "base_uri": "https://localhost:8080/"
        },
        "id": "5Z3_135EoOI4",
        "outputId": "6091196e-af7f-44f0-8013-91eb8b91dca3"
      },
      "outputs": [
        {
          "output_type": "stream",
          "name": "stdout",
          "text": [
            "Value of for_value: 4\n"
          ]
        }
      ],
      "source": [
        "for_value = 4\n",
        "print(\"Value of for_value:\",for_value)"
      ]
    },
    {
      "cell_type": "code",
      "execution_count": null,
      "metadata": {
        "colab": {
          "base_uri": "https://localhost:8080/"
        },
        "id": "WZoYawXFogW2",
        "outputId": "3f783db4-59ed-4f81-e501-48309cc16dcc"
      },
      "outputs": [
        {
          "output_type": "stream",
          "name": "stdout",
          "text": [
            "simple_Interest for 3 years is: 1500.0\n"
          ]
        }
      ],
      "source": [
        "P = 10000\n",
        "R = 5\n",
        "T = 3\n",
        "simple_interest = (P * R * T)/100\n",
        "print(\"simple_Interest for 3 years is:\", simple_interest)"
      ]
    },
    {
      "cell_type": "code",
      "execution_count": null,
      "metadata": {
        "colab": {
          "base_uri": "https://localhost:8080/"
        },
        "id": "yw3CgTcpovDO",
        "outputId": "42385854-4cca-4824-e996-f7827a204fa8"
      },
      "outputs": [
        {
          "output_type": "stream",
          "name": "stdout",
          "text": [
            "Formatted output 221\n"
          ]
        }
      ],
      "source": [
        "def format_example(value,format_type):\n",
        "  formatted = format(value ,format_type)\n",
        "  print(\"Formatted output\", formatted)\n",
        "\n",
        "format_example(145, 'o')"
      ]
    },
    {
      "cell_type": "code",
      "execution_count": null,
      "metadata": {
        "colab": {
          "base_uri": "https://localhost:8080/"
        },
        "id": "-dYOfH_WrY2n",
        "outputId": "f95390ca-cab3-45c1-aa96-cd7695cf6f66"
      },
      "outputs": [
        {
          "output_type": "stream",
          "name": "stdout",
          "text": [
            "Total water in pond(litres): 31018\n"
          ]
        }
      ],
      "source": [
        "radius = 84\n",
        "pi = 3.14\n",
        "water_per_square_meter = 1.4\n",
        "area = pi * (radius ** 2)\n",
        "total_water = area * water_per_square_meter\n",
        "print(\"Total water in pond(litres):\", int(total_water))"
      ]
    },
    {
      "cell_type": "code",
      "execution_count": null,
      "metadata": {
        "colab": {
          "base_uri": "https://localhost:8080/"
        },
        "id": "MsElHf1ds813",
        "outputId": "81fc78e4-5dcf-4828-dcf2-694c0741b9de"
      },
      "outputs": [
        {
          "output_type": "stream",
          "name": "stdout",
          "text": [
            "Speed in meters per second: 1\n"
          ]
        }
      ],
      "source": [
        "distance = 490\n",
        "time_minutes = 7\n",
        "time_seconds = time_minutes * 60\n",
        "speed = distance / time_seconds\n",
        "print(\"Speed in meters per second:\",int(speed))\n"
      ]
    },
    {
      "cell_type": "markdown",
      "source": [
        "**1. Calculate the number of members in the Justice League**"
      ],
      "metadata": {
        "id": "i1h9mwrCeEwI"
      }
    },
    {
      "cell_type": "code",
      "source": [
        "# 1\n",
        "justice_league = [\"Superman\", \"Batman\", \"Wonder Woman\", \"Flash\", \"Aquaman\", \"Green Lantern\"]\n",
        "print(len(justice_league))\n",
        "print(justice_league)"
      ],
      "metadata": {
        "id": "7QFxffHhe5DK",
        "colab": {
          "base_uri": "https://localhost:8080/"
        },
        "outputId": "1d4e480e-b37b-4040-d7e7-76f198cb63b0"
      },
      "execution_count": null,
      "outputs": [
        {
          "output_type": "stream",
          "name": "stdout",
          "text": [
            "6\n",
            "['Superman', 'Batman', 'Wonder Woman', 'Flash', 'Aquaman', 'Green Lantern']\n"
          ]
        }
      ]
    },
    {
      "cell_type": "markdown",
      "source": [
        " **2. Batman recruited Batgirl and Nightwing as new members.Add them to your list**"
      ],
      "metadata": {
        "id": "xqfvBMJk0mZw"
      }
    },
    {
      "cell_type": "code",
      "source": [
        "# 2\n",
        "justice_league.extend([\"Batgirl\", \"Nightwing\"])\n",
        "print(justice_league)"
      ],
      "metadata": {
        "colab": {
          "base_uri": "https://localhost:8080/"
        },
        "id": "2tmroauK01ps",
        "outputId": "ac00b5df-3420-4026-cab0-d8b230647e08"
      },
      "execution_count": null,
      "outputs": [
        {
          "output_type": "stream",
          "name": "stdout",
          "text": [
            "['Superman', 'Batman', 'Wonder Woman', 'Flash', 'Aquaman', 'Green Lantern', 'Batgirl', 'Nightwing']\n"
          ]
        }
      ]
    },
    {
      "cell_type": "markdown",
      "source": [
        "**3. Wonder Woman is now the leader of the justice League.Move her to the beggining of the list**"
      ],
      "metadata": {
        "id": "duC376Qe2-JQ"
      }
    },
    {
      "cell_type": "code",
      "source": [
        "# 3\n",
        "justice_league.remove(\"Wonder Woman\")\n",
        "justice_league.insert(0, \"Wonder Woman\")\n",
        "print(justice_league)"
      ],
      "metadata": {
        "colab": {
          "base_uri": "https://localhost:8080/"
        },
        "id": "SEpZcU0h3Ot8",
        "outputId": "db7e1653-3882-4a3e-ed3b-1815cd3b72eb"
      },
      "execution_count": null,
      "outputs": [
        {
          "output_type": "stream",
          "name": "stdout",
          "text": [
            "['Wonder Woman', 'Superman', 'Batman', 'Flash', 'Aquaman', 'Green Lantern', 'Batgirl', 'Nightwing']\n"
          ]
        }
      ]
    },
    {
      "cell_type": "markdown",
      "source": [
        " **4.Separate Aquaman and Flash by moving Green Lantern in betweeen them**"
      ],
      "metadata": {
        "id": "LSKXLZP-39e5"
      }
    },
    {
      "cell_type": "code",
      "source": [
        "justice_league = ['Wonder Woman', 'Superman', 'Batman', 'Flash', 'Aquaman', 'Green Lantern', 'Batgirl']\n",
        "justice_league.remove('Green Lantern')\n",
        "index_flash = justice_league.index('Flash')\n",
        "justice_league.insert(index_flash + 1, 'Green Lantern')\n",
        "print(justice_league)"
      ],
      "metadata": {
        "colab": {
          "base_uri": "https://localhost:8080/"
        },
        "id": "HJ1FUNOC5Eqe",
        "outputId": "5d300031-0957-4138-c8c1-23ef4982011b"
      },
      "execution_count": null,
      "outputs": [
        {
          "output_type": "stream",
          "name": "stdout",
          "text": [
            "['Wonder Woman', 'Superman', 'Batman', 'Flash', 'Green Lantern', 'Aquaman', 'Batgirl']\n"
          ]
        }
      ]
    },
    {
      "cell_type": "markdown",
      "source": [],
      "metadata": {
        "id": "1ivRkkKL5JDB"
      }
    },
    {
      "cell_type": "markdown",
      "source": [
        "## **5.Replace the existing list with the new team members)**"
      ],
      "metadata": {
        "id": "F74D5cTR5Kjd"
      }
    },
    {
      "cell_type": "code",
      "source": [
        "justice_league = ['Wonder Woman', 'Superman', 'Batman', 'Flash', 'Aquaman', 'Green Lantern', 'Batgirl']\n",
        "justice_league.remove('Green Lantern')\n",
        "index_flash = justice_league.index('Flash')\n",
        "justice_league.insert(index_flash + 1, 'Green Lantern')\n",
        "print(justice_league)"
      ],
      "metadata": {
        "colab": {
          "base_uri": "https://localhost:8080/"
        },
        "id": "bj3XPngU5T0x",
        "outputId": "c5bab60d-26dc-48b8-a36e-cc885382c660"
      },
      "execution_count": null,
      "outputs": [
        {
          "output_type": "stream",
          "name": "stdout",
          "text": [
            "['Wonder Woman', 'Superman', 'Batman', 'Flash', 'Green Lantern', 'Aquaman', 'Batgirl']\n"
          ]
        }
      ]
    },
    {
      "cell_type": "markdown",
      "source": [
        "**6. Sort the Justice League alphabetically.The hero at 0th index becomes the new leader.**"
      ],
      "metadata": {
        "id": "WOwqoN9s5pHE"
      }
    },
    {
      "cell_type": "code",
      "source": [
        "# 6\n",
        "justice_league.sort()\n",
        "print(justice_league)\n",
        "print(justice_league[0])"
      ],
      "metadata": {
        "colab": {
          "base_uri": "https://localhost:8080/"
        },
        "id": "YHo4oF_i5-n1",
        "outputId": "b03a4a79-9c9f-4699-8f13-239059b2ef89"
      },
      "execution_count": null,
      "outputs": [
        {
          "output_type": "stream",
          "name": "stdout",
          "text": [
            "['Aquaman', 'Batgirl', 'Batman', 'Flash', 'Green Lantern', 'Superman', 'Wonder Woman']\n",
            "Aquaman\n"
          ]
        }
      ]
    },
    {
      "cell_type": "code",
      "source": [
        "\n",
        "class Avenger:\n",
        "    def __init__(self, name, age, gender, super_power, weapon):\n",
        "        self.name = name\n",
        "        self.age = age\n",
        "        self.gender = gender\n",
        "        self.super_power = super_power\n",
        "        self.weapon = weapon\n",
        "\n",
        "    def get_info(self):\n",
        "        return f\"Name: {self.name}, Age: {self.age}, Gender: {self.gender}, Super Power: {self.super_power}, Weapon: {self.weapon}\"\n",
        "\n",
        "    def is_leader(self):\n",
        "        return self.name == \"Captain America\"\n",
        "\n",
        "\n",
        "super_heroes = [\n",
        "    Avenger(\"Captain America\", 35, \"Male\", \"Super Strength\", \"Shield\"),\n",
        "    Avenger(\"Iron Man\", 40, \"Male\", \"Technology\", \"Armor\"),\n",
        "    Avenger(\"Black Widow\", 32, \"Female\", \"Superhuman\", \"Batons\"),\n",
        "    Avenger(\"Hulk\", 38, \"Male\", \"Unlimited Strength\", \"No Weapon\"),\n",
        "    Avenger(\"Thor\", 1500, \"Male\", \"Super Energy\", \"Mjölnir\"),\n",
        "    Avenger(\"Hawkeye\", 36, \"Male\", \"Fighting Skills\", \"Bow and Arrows\")\n",
        "]\n",
        "\n",
        "\n",
        "for hero in super_heroes:\n",
        "    print(hero.get_info())\n",
        "    print(\"Leader Status:\", \"Yes\" if hero.is_leader() else \"No\")\n",
        "    print()"
      ],
      "metadata": {
        "colab": {
          "base_uri": "https://localhost:8080/"
        },
        "id": "YXRC2-736qus",
        "outputId": "5b340a1f-728e-432d-9b05-374f25a715d3"
      },
      "execution_count": null,
      "outputs": [
        {
          "output_type": "stream",
          "name": "stdout",
          "text": [
            "Name: Captain America, Age: 35, Gender: Male, Super Power: Super Strength, Weapon: Shield\n",
            "Leader Status: Yes\n",
            "\n",
            "Name: Iron Man, Age: 40, Gender: Male, Super Power: Technology, Weapon: Armor\n",
            "Leader Status: No\n",
            "\n",
            "Name: Black Widow, Age: 32, Gender: Female, Super Power: Superhuman, Weapon: Batons\n",
            "Leader Status: No\n",
            "\n",
            "Name: Hulk, Age: 38, Gender: Male, Super Power: Unlimited Strength, Weapon: No Weapon\n",
            "Leader Status: No\n",
            "\n",
            "Name: Thor, Age: 1500, Gender: Male, Super Power: Super Energy, Weapon: Mjölnir\n",
            "Leader Status: No\n",
            "\n",
            "Name: Hawkeye, Age: 36, Gender: Male, Super Power: Fighting Skills, Weapon: Bow and Arrows\n",
            "Leader Status: No\n",
            "\n"
          ]
        }
      ]
    },
    {
      "cell_type": "code",
      "source": [
        "\n",
        "class MobilePhone:\n",
        "    def __init__(self, screen_type, network_type, dual_sim, front_camera, rear_camera, ram, storage):\n",
        "        self.screen_type = screen_type\n",
        "        self.network_type = network_type\n",
        "        self.dual_sim = dual_sim\n",
        "        self.front_camera = front_camera\n",
        "        self.rear_camera = rear_camera\n",
        "        self.ram = ram\n",
        "        self.storage = storage\n",
        "\n",
        "    def make_call(self):\n",
        "        print(\"Making a call...\")\n",
        "\n",
        "    def receive_call(self):\n",
        "        print(\"Receiving a call...\")\n",
        "\n",
        "    def take_a_picture(self):\n",
        "        print(f\"Taking a picture with {self.rear_camera} rear camera.\")\n",
        "\n",
        "    def show_specs(self):\n",
        "        print(f\"\"\"\n",
        "Screen Type   : {self.screen_type}\n",
        "Network Type  : {self.network_type}\n",
        "Dual SIM      : {self.dual_sim}\n",
        "Front Camera  : {self.front_camera}\n",
        "Rear Camera   : {self.rear_camera}\n",
        "RAM           : {self.ram}\n",
        "Storage       : {self.storage}\n",
        "\"\"\")\n",
        "\n",
        "\n",
        "class Apple(MobilePhone):\n",
        "    def __init__(self, screen_type, network_type, dual_sim, front_camera, rear_camera, ram, storage, model):\n",
        "        super().__init__(screen_type, network_type, dual_sim, front_camera, rear_camera, ram, storage)\n",
        "        self.model = model\n",
        "\n",
        "    def show_apple_details(self):\n",
        "        print(f\"Apple Model: {self.model}\")\n",
        "        self.show_specs()\n",
        "\n",
        "class Samsung(MobilePhone):\n",
        "    def __init__(self, screen_type, network_type, dual_sim, front_camera, rear_camera, ram, storage, model):\n",
        "        super().__init__(screen_type, network_type, dual_sim, front_camera, rear_camera, ram, storage)\n",
        "        self.model = model\n",
        "\n",
        "    def show_samsung_details(self):\n",
        "        print(f\"Samsung Model: {self.model}\")\n",
        "        self.show_specs()\n",
        "\n",
        "iphone1 = Apple(\"Touch Screen\", \"5G\", False, \"12MP\", \"48MP\", \"4GB\", \"64GB\", \"iPhone 14 Pro\")\n",
        "iphone2 = Apple(\"Touch Screen\", \"4G\", False, \"8MP\", \"12MP\", \"3GB\", \"32GB\", \"iPhone SE\")\n",
        "\n",
        "\n",
        "samsung1 = Samsung(\"Touch Screen\", \"5G\", True, \"16MP\", \"48MP\", \"4GB\", \"64GB\", \"Galaxy S22 Ultra\")\n",
        "samsung2 = Samsung(\"Touch Screen\", \"4G\", True, \"8MP\", \"16MP\", \"3GB\", \"32GB\", \"Galaxy A52\")\n",
        "\n",
        "\n",
        "print(\"=== Apple Phones ===\")\n",
        "iphone1.show_apple_details()\n",
        "iphone2.show_apple_details()\n",
        "\n",
        "print(\"=== Samsung Phones ===\")\n",
        "samsung1.show_samsung_details()\n",
        "samsung2.show_samsung_details()"
      ],
      "metadata": {
        "colab": {
          "base_uri": "https://localhost:8080/"
        },
        "id": "c3hNtWRd7FTv",
        "outputId": "d41410d5-9005-4e6d-fa9d-a2a3784bfae4"
      },
      "execution_count": null,
      "outputs": [
        {
          "output_type": "stream",
          "name": "stdout",
          "text": [
            "=== Apple Phones ===\n",
            "Apple Model: iPhone 14 Pro\n",
            "\n",
            "Screen Type   : Touch Screen\n",
            "Network Type  : 5G\n",
            "Dual SIM      : False\n",
            "Front Camera  : 12MP\n",
            "Rear Camera   : 48MP\n",
            "RAM           : 4GB\n",
            "Storage       : 64GB\n",
            "\n",
            "Apple Model: iPhone SE\n",
            "\n",
            "Screen Type   : Touch Screen\n",
            "Network Type  : 4G\n",
            "Dual SIM      : False\n",
            "Front Camera  : 8MP\n",
            "Rear Camera   : 12MP\n",
            "RAM           : 3GB\n",
            "Storage       : 32GB\n",
            "\n",
            "=== Samsung Phones ===\n",
            "Samsung Model: Galaxy S22 Ultra\n",
            "\n",
            "Screen Type   : Touch Screen\n",
            "Network Type  : 5G\n",
            "Dual SIM      : True\n",
            "Front Camera  : 16MP\n",
            "Rear Camera   : 48MP\n",
            "RAM           : 4GB\n",
            "Storage       : 64GB\n",
            "\n",
            "Samsung Model: Galaxy A52\n",
            "\n",
            "Screen Type   : Touch Screen\n",
            "Network Type  : 4G\n",
            "Dual SIM      : True\n",
            "Front Camera  : 8MP\n",
            "Rear Camera   : 16MP\n",
            "RAM           : 3GB\n",
            "Storage       : 32GB\n",
            "\n"
          ]
        }
      ]
    },
    {
      "cell_type": "code",
      "source": [
        "# Hangman in Python\n",
        "import random\n",
        "\n",
        "hangman_art = {0: (\"   \",\n",
        "                                   \"   \",\n",
        "                                   \"   \"),\n",
        "                             1: (\" o \",\n",
        "                                   \"   \",\n",
        "                                   \"   \"),\n",
        "                             2: (\" o \",\n",
        "                                   \" | \",\n",
        "                                   \"   \"),\n",
        "                             3: (\" o \",\n",
        "                                   \"/| \",\n",
        "                                   \"   \"),\n",
        "                             4: (\" o \",\n",
        "                                  \"/|\\\\\",\n",
        "                                   \"   \"),\n",
        "                              5: (\" o \",\n",
        "                                   \"/|\\\\\",\n",
        "                                   \"/  \"),\n",
        "                              6: (\" o \",\n",
        "                                   \"/|\\\\\",\n",
        "                                   \"/ \\\\\")}\n",
        "\n",
        "words = (\"aardvark\", \"alligator\", \"alpaca\", \"ant\", \"anteater\", \"antelope\", \"ape\", \"armadillo\", \"baboon\", \"badger\", \"bat\", \"bear\", \"beaver\", \"bee\", \"bison\", \"boar\", \"buffalo\", \"butterfly\", \"camel\", \"capybara\", \"caribou\", \"cat\", \"caterpillar\", \"cattle\", \"chamois\", \"cheetah\", \"chicken\", \"chimpanzee\", \"chinchilla\", \"chough\", \"clam\", \"cobra\", \"cockroach\", \"cod\", \"coyote\", \"crab\", \"crane\", \"crocodile\", \"crow\", \"curlew\", \"deer\", \"dinosaur\", \"dog\", \"dogfish\", \"dolphin\", \"donkey\", \"dormouse\", \"dotterel\", \"dove\", \"dragonfly\", \"duck\", \"dugong\", \"dunlin\", \"eagle\", \"echidna\", \"eel\", \"eland\", \"elephant\",  \"elk\", \"emu\", \"falcon\", \"ferret\", \"finch\", \"fish\", \"flamingo\", \"fly\", \"fox\", \"frog\", \"gaur\", \"gazelle\", \"gerbil\", \"giraffe\", \"gnat\", \"gnu\", \"goat\", \"goldfinch\", \"goldfish\", \"goose\", \"gorilla\", \"goshawk\", \"grasshopper\", \"grouse\", \"guanaco\", \"gull\", \"hamster\", \"hare\", \"hawk\", \"hedgehog\", \"heron\", \"herring\", \"hippopotamus\", \"hornet\", \"horse\", \"human\", \"hummingbird\", \"hyena\", \"ibex\", \"ibis\", \"jackal\", \"jaguar\", \"jay\", \"jellyfish\", \"kangaroo\", \"kingfisher\", \"koala\", \"kookabura\", \"kouprey\", \"kudu\", \"lapwing\", \"lark\", \"lemur\", \"leopard\", \"lion\", \"llama\", \"lobster\", \"locust\", \"loris\", \"louse\", \"lyrebird\", \"magpie\", \"mallard\", \"manatee\", \"mandrill\", \"mantis\", \"marten\", \"meerkat\", \"mink\", \"mole\", \"mongoose\", \"monkey\", \"moose\", \"mosquito\", \"mouse\", \"mule\", \"narwhal\", \"newt\", \"nightingale\", \"octopus\", \"okapi\", \"opossum\", \"oryx\", \"ostrich\", \"otter\", \"owl\", \"ox\", \"oyster\", \"panda\", \"panther\", \"parrot\", \"partridge\", \"peafowl\", \"pelican\", \"penguin\", \"pheasant\", \"pig\", \"pigeon\", \"polar-bear\", \"pony\", \"porcupine\", \"porpoise\", \"quail\", \"quelea\", \"quetzal\", \"rabbit\", \"raccoon\", \"rail\", \"ram\", \"rat\", \"raven\", \"red-deer\", \"red-panda\", \"reindeer\", \"rhinoceros\", \"rook\", \"salamander\", \"salmon\", \"sand-dollar\", \"sandpiper\", \"sardine\", \"scorpion\", \"seahorse\", \"seal\", \"shark\", \"sheep\", \"shrew\", \"skunk\", \"snail\", \"snake\", \"sparrow\", \"spider\", \"spoonbill\", \"squid\", \"squirrel\", \"starling\", \"stingray\", \"stoat\", \"stork\", \"swallow\", \"swan\", \"tapir\", \"tarsier\", \"termite\", \"tiger\", \"toad\", \"trout\", \"turkey\", \"turtle\", \"viper\", \"vulture\", \"wallaby\", \"walrus\", \"wasp\", \"weasel\", \"whale\", \"wildcat\", \"wolf\", \"wolverine\", \"wombat\", \"woodcock\", \"woodpecker\", \"worm\", \"wren\", \"yak\", \"zebra\")\n",
        "\n",
        "def display_man(wrong_guesses):\n",
        "    print(\"**********\")\n",
        "    for line in hangman_art[wrong_guesses]:\n",
        "        print(line)\n",
        "    print(\"**********\")\n",
        "\n",
        "def display_hint(hint):\n",
        "    print(\" \".join(hint))\n",
        "\n",
        "def display_answer(answer):\n",
        "    print(\" \".join(answer))\n",
        "\n",
        "def main():\n",
        "    answer = random.choice(words)\n",
        "    hint = [\"_\"] * len(answer)\n",
        "    wrong_guesses = 0\n",
        "    guessed_letters = set()\n",
        "    is_running = True\n",
        "\n",
        "    while is_running:\n",
        "        display_man(wrong_guesses)\n",
        "        display_hint(hint)\n",
        "        guess = input(\"Enter a letter: \").lower()\n",
        "\n",
        "        if len(guess) != 1 or not guess.isalpha():\n",
        "            print(\"Invalid input\")\n",
        "            continue\n",
        "\n",
        "        if guess in guessed_letters:\n",
        "            print(f\"{guess} is already guessed\")\n",
        "            continue\n",
        "\n",
        "        guessed_letters.add(guess)\n",
        "\n",
        "        if guess in answer:\n",
        "            for i in range(len(answer)):\n",
        "                if answer[i] == guess:\n",
        "                    hint[i] = guess\n",
        "        else:\n",
        "            wrong_guesses += 1\n",
        "\n",
        "        if \"_\" not in hint:\n",
        "            display_man(wrong_guesses)\n",
        "            display_answer(answer)\n",
        "            print(\"YOU WIN!\")\n",
        "            is_running = False\n",
        "        elif wrong_guesses >= len(hangman_art) - 1:\n",
        "            display_man(wrong_guesses)\n",
        "            display_answer(answer)\n",
        "            print(\"YOU LOSE!\")\n",
        "            is_running = False\n",
        "\n",
        "if __name__ == \"__main__\":\n",
        "    main()\n"
      ],
      "metadata": {
        "colab": {
          "base_uri": "https://localhost:8080/"
        },
        "id": "Uyiip5Rrvgvn",
        "outputId": "d9190965-307a-41f9-bb36-e753502686ab"
      },
      "execution_count": null,
      "outputs": [
        {
          "output_type": "stream",
          "name": "stdout",
          "text": [
            "**********\n",
            "   \n",
            "   \n",
            "   \n",
            "**********\n",
            "_ _ _ _\n",
            "Enter a letter: r\n",
            "**********\n",
            " o \n",
            "   \n",
            "   \n",
            "**********\n",
            "_ _ _ _\n",
            "Enter a letter: k\n",
            "**********\n",
            " o \n",
            " | \n",
            "   \n",
            "**********\n",
            "_ _ _ _\n",
            "Enter a letter: l\n",
            "**********\n",
            " o \n",
            "/| \n",
            "   \n",
            "**********\n",
            "_ _ _ _\n",
            "Enter a letter: h\n",
            "**********\n",
            " o \n",
            "/|\\\n",
            "   \n",
            "**********\n",
            "_ _ _ _\n",
            "Enter a letter: o\n",
            "**********\n",
            " o \n",
            "/|\\\n",
            "/  \n",
            "**********\n",
            "_ _ _ _\n",
            "Enter a letter: f\n",
            "**********\n",
            " o \n",
            "/|\\\n",
            "/ \\\n",
            "**********\n",
            "g n a t\n",
            "YOU LOSE!\n"
          ]
        }
      ]
    },
    {
      "cell_type": "code",
      "source": [
        "import requests\n",
        "from bs4 import BeautifulSoup\n",
        "import random\n",
        "import time\n",
        "\n",
        "# List of common User-Agent strings\n",
        "user_agents = [\n",
        "    \"Mozilla/5.0 (Windows NT 10.0; Win64; x64; rv:89.0) Gecko/20100101 Firefox/89.0\",\n",
        "    \"Mozilla/5.0 (Windows NT 10.0; Win64; x64) AppleWebKit/537.36 (KHTML, like Gecko) Chrome/91.0.4472.124 Safari/537.36\",\n",
        "    \"Mozilla/5.0 (Macintosh; Intel Mac OS X 10_15_7) AppleWebKit/605.1.15 (KHTML, like Gecko) Version/14.0.3 Safari/605.1.15\",\n",
        "]\n",
        "\n",
        "def fetch_amazon_results(keyword, num_results=10):\n",
        "    headers = {\n",
        "        \"User-Agent\": random.choice(user_agents),\n",
        "        \"Accept-Language\": \"en-US,en;q=0.9\"\n",
        "    }\n",
        "    search_url = f\"https://www.amazon.in/s?k={keyword.replace(' ', '+')}\"\n",
        "    response = requests.get(search_url, headers=headers)\n",
        "\n",
        "    if response.status_code != 200:\n",
        "        print(f\"Failed to fetch page. Status code: {response.status_code}\")\n",
        "        return\n",
        "\n",
        "    soup = BeautifulSoup(response.content, \"html.parser\")\n",
        "    products = soup.find_all(\"div\", {\"data-component-type\": \"s-search-result\"})\n",
        "\n",
        "    results = []\n",
        "    for product in products[:num_results]:\n",
        "        title_elem = product.find(\"h2\")\n",
        "        price_elem = product.find(\"span\", class_=\"a-price-whole\")\n",
        "\n",
        "        title = title_elem.text.strip() if title_elem else \"Title not found\"\n",
        "        price = price_elem.text.strip() if price_elem else \"Price not listed\"\n",
        "\n",
        "        results.append((title, price))\n",
        "\n",
        "    return results\n",
        "\n",
        "if __name__ == \"__main__\":\n",
        "    # Example 1: headphones\n",
        "    for idx, (title, price) in enumerate(fetch_amazon_results(\"headphones\"), 1):\n",
        "        print(f\"{idx}. {title} — ₹{price}\")\n",
        "    print(\"\\n\")\n",
        "    time.sleep(random.uniform(1, 2))\n",
        "\n",
        "    # Example 2: \"smart watches\"\n",
        "    for idx, (title, price) in enumerate(fetch_amazon_results(\"smart watches\"), 1):\n",
        "        print(f\"{idx}. {title} — ₹{price}\")\n"
      ],
      "metadata": {
        "id": "NaUQR25eW0yj"
      },
      "execution_count": null,
      "outputs": []
    }
  ],
  "metadata": {
    "colab": {
      "provenance": []
    },
    "kernelspec": {
      "display_name": "Python 3",
      "name": "python3"
    },
    "language_info": {
      "name": "python"
    }
  },
  "nbformat": 4,
  "nbformat_minor": 0
}